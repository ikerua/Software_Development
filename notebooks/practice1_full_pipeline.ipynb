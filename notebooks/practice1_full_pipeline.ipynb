{
 "cells": [
  {
   "cell_type": "markdown",
   "id": "56d080fc",
   "metadata": {},
   "source": [
    "# Data Preparation and Model Training\n",
    "\n",
    "This notebook demonstrates the workflow for preparing the house price dataset, training a regression model, making predictions, and analyzing results.\n",
    "\n",
    "## 1. Import Required Libraries and Modules\n",
    "\n",
    "We start by importing necessary libraries and modules, and setting up the Python path to allow imports from the project directory."
   ]
  },
  {
   "cell_type": "code",
   "execution_count": null,
   "id": "8f2ceb96",
   "metadata": {},
   "outputs": [],
   "source": [
    "import importlib\n",
    "import sys\n",
    "import os\n",
    "# Add the parent directory to sys.path to allow imports from my_project\n",
    "sys.path.append(os.path.abspath(os.path.join(os.getcwd(), '..')))\n",
    "\n",
    "import my_project.dataset as ds\n",
    "importlib.reload(ds)\n"
   ]
  },
  {
   "cell_type": "markdown",
   "id": "2fa3887e",
   "metadata": {},
   "source": [
    "## 2. Initialize and Prepare Data\n",
    "\n",
    "We initialize the data module and process the raw dataset to prepare it for training."
   ]
  },
  {
   "cell_type": "code",
   "execution_count": null,
   "id": "82a42d1a",
   "metadata": {},
   "outputs": [],
   "source": [
    "# Initialize data module and process data\n",
    "dm = ds.HousePricingDataModule(data_dir=\"../data/raw/house_price_regression_dataset.csv\")\n",
    "dm.prepare_data()"
   ]
  },
  {
   "cell_type": "markdown",
   "id": "5f428bad",
   "metadata": {},
   "source": [
    "## 3. Train the Model\n",
    "\n",
    "We train the house price regression model using the processed data. Training parameters such as batch size, learning rate, and number of epochs are specified."
   ]
  },
  {
   "cell_type": "code",
   "execution_count": null,
   "id": "c0cd12f0",
   "metadata": {},
   "outputs": [],
   "source": [
    "from my_project.modeling import train, predict\n",
    "import importlib\n",
    "import argparse\n",
    "\n",
    "sys.path.append(os.path.abspath(os.path.join(os.getcwd(), '..')))\n",
    "\n",
    "# Simulate command-line arguments for train.main()\n",
    "args = argparse.Namespace(\n",
    "    batch_size=64,\n",
    "    num_workers=4,\n",
    "    lr=1e-3,\n",
    "    weight_decay=0.0,\n",
    "    epochs=20,\n",
    ")\n",
    "\n",
    "# Start training\n",
    "train.main(args)"
   ]
  },
  {
   "cell_type": "markdown",
   "id": "f2092b8b",
   "metadata": {},
   "source": [
    "## 4. Make Predictions\n",
    "\n",
    "After training, we use the trained model to make predictions on the test dataset. The predictions are saved to a CSV file for further analysis."
   ]
  },
  {
   "cell_type": "code",
   "execution_count": null,
   "id": "7850e7f1",
   "metadata": {},
   "outputs": [],
   "source": [
    "# Run prediction\n",
    "output_csv = predict.run_predict(\n",
    "    data_dir=\"data/processed\",\n",
    "    models_dir=\"models\",\n",
    "    output_path=\"models/test_predictions.csv\",\n",
    "    device=\"auto\",\n",
    "    target_col=\"House_Price\",\n",
    ")\n"
   ]
  },
  {
   "cell_type": "markdown",
   "id": "5f1e866d",
   "metadata": {},
   "source": [
    "## 5. Analyze Results\n",
    "\n",
    "Finally, we load the predictions and display the first few rows to inspect the results."
   ]
  },
  {
   "cell_type": "code",
   "execution_count": null,
   "id": "65917f58",
   "metadata": {},
   "outputs": [],
   "source": [
    "import pandas as pd\n",
    "df_preds = pd.read_csv(\"../models/test_predictions.csv\")\n",
    "df_preds.head()"
   ]
  }
 ],
 "metadata": {
  "kernelspec": {
   "display_name": "code",
   "language": "python",
   "name": "python3"
  },
  "language_info": {
   "codemirror_mode": {
    "name": "ipython",
    "version": 3
   },
   "file_extension": ".py",
   "mimetype": "text/x-python",
   "name": "python",
   "nbconvert_exporter": "python",
   "pygments_lexer": "ipython3",
   "version": "3.11.13"
  }
 },
 "nbformat": 4,
 "nbformat_minor": 5
}
