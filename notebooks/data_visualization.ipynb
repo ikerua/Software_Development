{
 "cells": [
  {
   "cell_type": "code",
   "execution_count": 1,
   "id": "352f2a79",
   "metadata": {},
   "outputs": [
    {
     "name": "stdout",
     "output_type": "stream",
     "text": [
      "Dataset loaded with shape: (1000, 8)\n",
      "Features shape: (1000, 7), Target shape: (1000,)\n",
      "Data split into train, val, and test sets. Interim files saved.\n",
      "Data normalized and processed files saved.\n"
     ]
    }
   ],
   "source": [
    "import sys\n",
    "import os\n",
    "# Add the parent directory to sys.path to allow imports from my_project\n",
    "sys.path.append(os.path.abspath(os.path.join(os.getcwd(), '..')))\n",
    "\n",
    "from my_project.dataset import HousePricingDataModule\n",
    "# from my_project.model import HousePricingModel\n",
    "\n",
    "# Initialize data module and process data\n",
    "dataModule = HousePricingDataModule(data_dir='../data/raw/house_price_regression_dataset.csv')\n",
    "dataModule.prepare_data()"
   ]
  }
 ],
 "metadata": {
  "kernelspec": {
   "display_name": "code (3.11.13)",
   "language": "python",
   "name": "python3"
  },
  "language_info": {
   "codemirror_mode": {
    "name": "ipython",
    "version": 3
   },
   "file_extension": ".py",
   "mimetype": "text/x-python",
   "name": "python",
   "nbconvert_exporter": "python",
   "pygments_lexer": "ipython3",
   "version": "3.11.13"
  }
 },
 "nbformat": 4,
 "nbformat_minor": 5
}
